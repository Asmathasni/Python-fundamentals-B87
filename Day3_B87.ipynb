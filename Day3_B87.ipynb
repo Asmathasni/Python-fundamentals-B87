{
 "cells": [
  {
   "cell_type": "code",
   "execution_count": 1,
   "id": "1d95e10e-a0bc-4f25-ba39-f456c45d6239",
   "metadata": {},
   "outputs": [
    {
     "name": "stdout",
     "output_type": "stream",
     "text": [
      "Asma thasni\n"
     ]
    }
   ],
   "source": [
    "fullname = \"Asma thasni\"\n",
    "print(fullname)"
   ]
  },
  {
   "cell_type": "code",
   "execution_count": 8,
   "id": "8fec4d58-d40d-4199-91a8-c1e604855888",
   "metadata": {},
   "outputs": [
    {
     "name": "stdout",
     "output_type": "stream",
     "text": [
      "Shazil Mp\n"
     ]
    }
   ],
   "source": [
    "print(fullname.title())"
   ]
  },
  {
   "cell_type": "code",
   "execution_count": 9,
   "id": "9a318f18-7e17-497a-a310-93e1b7408758",
   "metadata": {},
   "outputs": [
    {
     "name": "stdout",
     "output_type": "stream",
     "text": [
      "SHAZIL MP\n"
     ]
    }
   ],
   "source": [
    "print(fullname.upper())"
   ]
  },
  {
   "cell_type": "code",
   "execution_count": 10,
   "id": "efd28000-33aa-4a49-b74e-1217e65a0685",
   "metadata": {},
   "outputs": [
    {
     "name": "stdout",
     "output_type": "stream",
     "text": [
      "shazil mp\n"
     ]
    }
   ],
   "source": [
    "print(fullname.lower())"
   ]
  },
  {
   "cell_type": "code",
   "execution_count": null,
   "id": "2de774b2-3649-403a-9bfd-10feef7d4264",
   "metadata": {},
   "outputs": [],
   "source": []
  },
  {
   "cell_type": "code",
   "execution_count": 11,
   "id": "8c6dfef4-ea26-4065-ae22-c9c52e31f238",
   "metadata": {},
   "outputs": [
    {
     "name": "stdout",
     "output_type": "stream",
     "text": [
      "Shazil Mp\n"
     ]
    }
   ],
   "source": [
    "first_name = \"shazil\"\n",
    "last_name = \"MP\"\n",
    "fullname = f\"{first_name} {last_name}\"\n",
    "print(fullname.title())"
   ]
  },
  {
   "cell_type": "code",
   "execution_count": 12,
   "id": "38bbb3e3-22e0-4854-87e8-a04a822d0f5b",
   "metadata": {},
   "outputs": [
    {
     "name": "stdout",
     "output_type": "stream",
     "text": [
      "keep up the good work Shazil Mp\n"
     ]
    }
   ],
   "source": [
    "message = f\"keep up the good work {fullname.title()}\"\n",
    "print(message)"
   ]
  },
  {
   "cell_type": "code",
   "execution_count": 13,
   "id": "3fedd18d-726b-4009-b09d-1abfb373b119",
   "metadata": {},
   "outputs": [
    {
     "name": "stdout",
     "output_type": "stream",
     "text": [
      "fav_language:pythonjavac++reactcswift\n"
     ]
    }
   ],
   "source": [
    "print(\"fav_language:pythonjavac++reactcswift\")"
   ]
  },
  {
   "cell_type": "code",
   "execution_count": 14,
   "id": "f9c57a28-466b-46ce-9c15-51a2ce443fd9",
   "metadata": {},
   "outputs": [
    {
     "name": "stdout",
     "output_type": "stream",
     "text": [
      "fav_language:\n",
      "python\n",
      "java\n",
      "c++\n",
      "react\n",
      "c\n",
      "swift\n"
     ]
    }
   ],
   "source": [
    "print(\"fav_language:\\npython\\njava\\nc++\\nreact\\nc\\nswift\")"
   ]
  },
  {
   "cell_type": "code",
   "execution_count": null,
   "id": "36d14740-9399-414d-9092-ac9a027d11fe",
   "metadata": {},
   "outputs": [],
   "source": [
    "print(\"fav_language:\\n\\tpython\\n\\tjava\\n\\tc++\\n\\treact\\n\\tc\\n\\tswift\")"
   ]
  }
 ],
 "metadata": {
  "kernelspec": {
   "display_name": "Python 3 (ipykernel)",
   "language": "python",
   "name": "python3"
  },
  "language_info": {
   "codemirror_mode": {
    "name": "ipython",
    "version": 3
   },
   "file_extension": ".py",
   "mimetype": "text/x-python",
   "name": "python",
   "nbconvert_exporter": "python",
   "pygments_lexer": "ipython3",
   "version": "3.11.7"
  }
 },
 "nbformat": 4,
 "nbformat_minor": 5
}
